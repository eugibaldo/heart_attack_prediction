{
 "cells": [
  {
   "cell_type": "markdown",
   "id": "9966097f",
   "metadata": {},
   "source": [
    "# Heart Attack prediction"
   ]
  },
  {
   "cell_type": "markdown",
   "id": "24947d3b",
   "metadata": {},
   "source": [
    "## importing libraries ##"
   ]
  },
  {
   "cell_type": "code",
   "execution_count": 1,
   "id": "7981d213",
   "metadata": {},
   "outputs": [],
   "source": [
    "import os\n",
    "import sys\n",
    "import pandas as pd\n",
    "import numpy as np\n",
    "from sklearn.decomposition import PCA\n",
    "from sklearn.linear_model import LogisticRegression\n",
    "from sklearn.pipeline import Pipeline\n",
    "from sklearn.model_selection import GridSearchCV\n",
    "from sklearn.model_selection import train_test_split\n",
    "from sklearn.metrics import accuracy_score\n",
    "\n",
    "\n",
    "from modules.preprocessing import missing_values_columns\n",
    "from modules.preprocessing import encode_categorical_features\n",
    "from modules.preprocessing import standardize\n",
    "from modules.visualization import visualize_hist\n",
    "from modules.visualization import heatmap\n",
    "from modules.visualization import feature_importance_hist"
   ]
  },
  {
   "cell_type": "markdown",
   "id": "6906834a",
   "metadata": {},
   "source": [
    "## reading data ##"
   ]
  },
  {
   "cell_type": "code",
   "execution_count": 2,
   "id": "9341ffc2",
   "metadata": {},
   "outputs": [
    {
     "data": {
      "text/html": [
       "<div>\n",
       "<style scoped>\n",
       "    .dataframe tbody tr th:only-of-type {\n",
       "        vertical-align: middle;\n",
       "    }\n",
       "\n",
       "    .dataframe tbody tr th {\n",
       "        vertical-align: top;\n",
       "    }\n",
       "\n",
       "    .dataframe thead th {\n",
       "        text-align: right;\n",
       "    }\n",
       "</style>\n",
       "<table border=\"1\" class=\"dataframe\">\n",
       "  <thead>\n",
       "    <tr style=\"text-align: right;\">\n",
       "      <th></th>\n",
       "      <th>age</th>\n",
       "      <th>sex</th>\n",
       "      <th>cp</th>\n",
       "      <th>trtbps</th>\n",
       "      <th>chol</th>\n",
       "      <th>fbs</th>\n",
       "      <th>restecg</th>\n",
       "      <th>thalachh</th>\n",
       "      <th>exng</th>\n",
       "      <th>oldpeak</th>\n",
       "      <th>slp</th>\n",
       "      <th>caa</th>\n",
       "      <th>thall</th>\n",
       "      <th>output</th>\n",
       "    </tr>\n",
       "  </thead>\n",
       "  <tbody>\n",
       "    <tr>\n",
       "      <th>0</th>\n",
       "      <td>63</td>\n",
       "      <td>1</td>\n",
       "      <td>3</td>\n",
       "      <td>145</td>\n",
       "      <td>233</td>\n",
       "      <td>1</td>\n",
       "      <td>0</td>\n",
       "      <td>150</td>\n",
       "      <td>0</td>\n",
       "      <td>2.3</td>\n",
       "      <td>0</td>\n",
       "      <td>0</td>\n",
       "      <td>1</td>\n",
       "      <td>1</td>\n",
       "    </tr>\n",
       "    <tr>\n",
       "      <th>1</th>\n",
       "      <td>37</td>\n",
       "      <td>1</td>\n",
       "      <td>2</td>\n",
       "      <td>130</td>\n",
       "      <td>250</td>\n",
       "      <td>0</td>\n",
       "      <td>1</td>\n",
       "      <td>187</td>\n",
       "      <td>0</td>\n",
       "      <td>3.5</td>\n",
       "      <td>0</td>\n",
       "      <td>0</td>\n",
       "      <td>2</td>\n",
       "      <td>1</td>\n",
       "    </tr>\n",
       "    <tr>\n",
       "      <th>2</th>\n",
       "      <td>41</td>\n",
       "      <td>0</td>\n",
       "      <td>1</td>\n",
       "      <td>130</td>\n",
       "      <td>204</td>\n",
       "      <td>0</td>\n",
       "      <td>0</td>\n",
       "      <td>172</td>\n",
       "      <td>0</td>\n",
       "      <td>1.4</td>\n",
       "      <td>2</td>\n",
       "      <td>0</td>\n",
       "      <td>2</td>\n",
       "      <td>1</td>\n",
       "    </tr>\n",
       "    <tr>\n",
       "      <th>3</th>\n",
       "      <td>56</td>\n",
       "      <td>1</td>\n",
       "      <td>1</td>\n",
       "      <td>120</td>\n",
       "      <td>236</td>\n",
       "      <td>0</td>\n",
       "      <td>1</td>\n",
       "      <td>178</td>\n",
       "      <td>0</td>\n",
       "      <td>0.8</td>\n",
       "      <td>2</td>\n",
       "      <td>0</td>\n",
       "      <td>2</td>\n",
       "      <td>1</td>\n",
       "    </tr>\n",
       "    <tr>\n",
       "      <th>4</th>\n",
       "      <td>57</td>\n",
       "      <td>0</td>\n",
       "      <td>0</td>\n",
       "      <td>120</td>\n",
       "      <td>354</td>\n",
       "      <td>0</td>\n",
       "      <td>1</td>\n",
       "      <td>163</td>\n",
       "      <td>1</td>\n",
       "      <td>0.6</td>\n",
       "      <td>2</td>\n",
       "      <td>0</td>\n",
       "      <td>2</td>\n",
       "      <td>1</td>\n",
       "    </tr>\n",
       "    <tr>\n",
       "      <th>5</th>\n",
       "      <td>57</td>\n",
       "      <td>1</td>\n",
       "      <td>0</td>\n",
       "      <td>140</td>\n",
       "      <td>192</td>\n",
       "      <td>0</td>\n",
       "      <td>1</td>\n",
       "      <td>148</td>\n",
       "      <td>0</td>\n",
       "      <td>0.4</td>\n",
       "      <td>1</td>\n",
       "      <td>0</td>\n",
       "      <td>1</td>\n",
       "      <td>1</td>\n",
       "    </tr>\n",
       "    <tr>\n",
       "      <th>6</th>\n",
       "      <td>56</td>\n",
       "      <td>0</td>\n",
       "      <td>1</td>\n",
       "      <td>140</td>\n",
       "      <td>294</td>\n",
       "      <td>0</td>\n",
       "      <td>0</td>\n",
       "      <td>153</td>\n",
       "      <td>0</td>\n",
       "      <td>1.3</td>\n",
       "      <td>1</td>\n",
       "      <td>0</td>\n",
       "      <td>2</td>\n",
       "      <td>1</td>\n",
       "    </tr>\n",
       "    <tr>\n",
       "      <th>7</th>\n",
       "      <td>44</td>\n",
       "      <td>1</td>\n",
       "      <td>1</td>\n",
       "      <td>120</td>\n",
       "      <td>263</td>\n",
       "      <td>0</td>\n",
       "      <td>1</td>\n",
       "      <td>173</td>\n",
       "      <td>0</td>\n",
       "      <td>0.0</td>\n",
       "      <td>2</td>\n",
       "      <td>0</td>\n",
       "      <td>3</td>\n",
       "      <td>1</td>\n",
       "    </tr>\n",
       "    <tr>\n",
       "      <th>8</th>\n",
       "      <td>52</td>\n",
       "      <td>1</td>\n",
       "      <td>2</td>\n",
       "      <td>172</td>\n",
       "      <td>199</td>\n",
       "      <td>1</td>\n",
       "      <td>1</td>\n",
       "      <td>162</td>\n",
       "      <td>0</td>\n",
       "      <td>0.5</td>\n",
       "      <td>2</td>\n",
       "      <td>0</td>\n",
       "      <td>3</td>\n",
       "      <td>1</td>\n",
       "    </tr>\n",
       "    <tr>\n",
       "      <th>9</th>\n",
       "      <td>57</td>\n",
       "      <td>1</td>\n",
       "      <td>2</td>\n",
       "      <td>150</td>\n",
       "      <td>168</td>\n",
       "      <td>0</td>\n",
       "      <td>1</td>\n",
       "      <td>174</td>\n",
       "      <td>0</td>\n",
       "      <td>1.6</td>\n",
       "      <td>2</td>\n",
       "      <td>0</td>\n",
       "      <td>2</td>\n",
       "      <td>1</td>\n",
       "    </tr>\n",
       "  </tbody>\n",
       "</table>\n",
       "</div>"
      ],
      "text/plain": [
       "   age  sex  cp  trtbps  chol  fbs  restecg  thalachh  exng  oldpeak  slp  \\\n",
       "0   63    1   3     145   233    1        0       150     0      2.3    0   \n",
       "1   37    1   2     130   250    0        1       187     0      3.5    0   \n",
       "2   41    0   1     130   204    0        0       172     0      1.4    2   \n",
       "3   56    1   1     120   236    0        1       178     0      0.8    2   \n",
       "4   57    0   0     120   354    0        1       163     1      0.6    2   \n",
       "5   57    1   0     140   192    0        1       148     0      0.4    1   \n",
       "6   56    0   1     140   294    0        0       153     0      1.3    1   \n",
       "7   44    1   1     120   263    0        1       173     0      0.0    2   \n",
       "8   52    1   2     172   199    1        1       162     0      0.5    2   \n",
       "9   57    1   2     150   168    0        1       174     0      1.6    2   \n",
       "\n",
       "   caa  thall  output  \n",
       "0    0      1       1  \n",
       "1    0      2       1  \n",
       "2    0      2       1  \n",
       "3    0      2       1  \n",
       "4    0      2       1  \n",
       "5    0      1       1  \n",
       "6    0      2       1  \n",
       "7    0      3       1  \n",
       "8    0      3       1  \n",
       "9    0      2       1  "
      ]
     },
     "execution_count": 2,
     "metadata": {},
     "output_type": "execute_result"
    }
   ],
   "source": [
    "data_path='datasets/heart.csv'\n",
    "data=pd.read_csv(data_path)\n",
    "\n",
    "data.head(10)"
   ]
  },
  {
   "cell_type": "markdown",
   "id": "4b389aff",
   "metadata": {},
   "source": [
    "## data cleaning ##"
   ]
  },
  {
   "cell_type": "code",
   "execution_count": 3,
   "id": "97a95443",
   "metadata": {},
   "outputs": [
    {
     "name": "stdout",
     "output_type": "stream",
     "text": [
      "missing values per column:\n",
      "{'age': 0, 'sex': 0, 'cp': 0, 'trtbps': 0, 'chol': 0, 'fbs': 0, 'restecg': 0, 'thalachh': 0, 'exng': 0, 'oldpeak': 0, 'slp': 0, 'caa': 0, 'thall': 0, 'output': 0}\n"
     ]
    }
   ],
   "source": [
    "\n",
    "missing_values=missing_values_columns(data)\n",
    "\n",
    "print(f'missing values per column:\\n{missing_values}')"
   ]
  },
  {
   "cell_type": "markdown",
   "id": "99954503",
   "metadata": {},
   "source": [
    "fortunately, there are no missing values in the dataset"
   ]
  },
  {
   "cell_type": "markdown",
   "id": "9dbd87c8",
   "metadata": {},
   "source": [
    "## explorative data analysis ##\n"
   ]
  },
  {
   "cell_type": "markdown",
   "id": "fee391f4",
   "metadata": {},
   "source": [
    "**show the mean values grouped by age and sex of cholesterol, blood pressure, maximum rate achieved**"
   ]
  },
  {
   "cell_type": "code",
   "execution_count": 4,
   "id": "e25616e7",
   "metadata": {},
   "outputs": [],
   "source": [
    "sub_age_sex=data.groupby(['age','sex']).agg(Mean_cholesterol=('chol','mean'),Mean_blood_pressure=('trtbps','mean'),Mean_max_heart_rate_achieved=('thalachh','mean'))"
   ]
  },
  {
   "cell_type": "code",
   "execution_count": 5,
   "id": "49a6f04e",
   "metadata": {},
   "outputs": [
    {
     "name": "stdout",
     "output_type": "stream",
     "text": [
      "         Mean_cholesterol  Mean_blood_pressure  Mean_max_heart_rate_achieved\n",
      "age sex                                                                     \n",
      "29  1          204.000000           130.000000                    202.000000\n",
      "34  0          210.000000           118.000000                    192.000000\n",
      "    1          182.000000           118.000000                    174.000000\n",
      "35  0          183.000000           138.000000                    182.000000\n",
      "    1          224.000000           122.666667                    153.333333\n",
      "37  0          215.000000           120.000000                    170.000000\n",
      "    1          250.000000           130.000000                    187.000000\n",
      "38  1          193.666667           132.000000                    176.000000\n",
      "39  0          209.500000           116.000000                    165.500000\n",
      "    1          270.000000           129.000000                    161.000000\n",
      "40  1          196.333333           134.000000                    157.666667\n",
      "41  0          244.000000           118.250000                    168.750000\n",
      "    1          205.166667           119.500000                    162.000000\n",
      "42  0          237.000000           111.000000                    147.500000\n",
      "    1          250.000000           132.333333                    164.500000\n",
      "43  0          277.000000           127.000000                    150.500000\n",
      "    1          250.000000           126.166667                    156.333333\n",
      "44  0          191.500000           113.000000                    162.000000\n",
      "    1          228.000000           122.444444                    170.333333\n",
      "45  0          210.000000           126.666667                    155.000000\n"
     ]
    }
   ],
   "source": [
    "print(sub_age_sex.head(20))"
   ]
  },
  {
   "cell_type": "code",
   "execution_count": 6,
   "id": "074ec330",
   "metadata": {},
   "outputs": [
    {
     "name": "stdout",
     "output_type": "stream",
     "text": [
      "         Mean_cholesterol  Mean_blood_pressure  Mean_max_heart_rate_achieved\n",
      "age sex                                                                     \n",
      "62  1          246.750000           124.500000                    122.000000\n",
      "63  0          264.000000           131.400000                    162.000000\n",
      "    1          251.000000           136.250000                    143.250000\n",
      "64  0          313.666667           150.000000                    136.333333\n",
      "    1          257.571429           134.000000                    131.571429\n",
      "65  0          317.750000           151.250000                    142.500000\n",
      "    1          240.250000           125.750000                    149.750000\n",
      "66  0          244.000000           158.000000                    143.666667\n",
      "    1          247.000000           138.000000                    135.250000\n",
      "67  0          354.666667           124.333333                    158.000000\n",
      "    1          252.833333           129.500000                    124.333333\n",
      "68  0          211.000000           120.000000                    115.000000\n",
      "    1          248.000000           147.333333                    147.333333\n",
      "69  0          239.000000           140.000000                    151.000000\n",
      "    1          244.000000           150.000000                    138.500000\n",
      "70  1          252.500000           147.750000                    122.250000\n",
      "71  0          238.666667           127.333333                    139.000000\n",
      "74  0          269.000000           120.000000                    121.000000\n",
      "76  0          197.000000           140.000000                    116.000000\n",
      "77  1          304.000000           125.000000                    162.000000\n"
     ]
    }
   ],
   "source": [
    "print(sub_age_sex.tail(20))"
   ]
  },
  {
   "cell_type": "markdown",
   "id": "b936ea2c",
   "metadata": {},
   "source": [
    "## data visualization ##"
   ]
  },
  {
   "cell_type": "markdown",
   "id": "85740389",
   "metadata": {},
   "source": [
    "**display the histogram of the distribution of each feature**"
   ]
  },
  {
   "cell_type": "code",
   "execution_count": 7,
   "id": "e09de4d9",
   "metadata": {},
   "outputs": [
    {
     "data": {
      "image/png": "[encoded data removed]",
      "text/plain": [
       "<Figure size 1152x648 with 14 Axes>"
      ]
     },
     "metadata": {
      "needs_background": "light"
     },
     "output_type": "display_data"
    }
   ],
   "source": [
    "cols=list(data.columns)\n",
    "\n",
    "visualize_hist(data,cols)"
   ]
  },
  {
   "cell_type": "markdown",
   "id": "eec10d55",
   "metadata": {},
   "source": [
    "**correlation matrix among numerical variables**"
   ]
  },
  {
   "cell_type": "code",
   "execution_count": 8,
   "id": "9f757ef3",
   "metadata": {},
   "outputs": [
    {
     "data": {
      "image/png": "[encoded data removed]",
      "text/plain": [
       "<Figure size 864x648 with 2 Axes>"
      ]
     },
     "metadata": {
      "needs_background": "light"
     },
     "output_type": "display_data"
    }
   ],
   "source": [
    "numerical_columns=['trtbps','chol','thalachh','oldpeak']\n",
    "\n",
    "heatmap(data,numerical_columns)"
   ]
  },
  {
   "cell_type": "markdown",
   "id": "b8e9462a",
   "metadata": {},
   "source": [
    "there aren't strong correlations among numerical variables, therefore, there is no multicollinearity among these features"
   ]
  },
  {
   "cell_type": "markdown",
   "id": "7c446fa8",
   "metadata": {},
   "source": [
    "**association among nominal variables**"
   ]
  },
  {
   "cell_type": "code",
   "execution_count": 9,
   "id": "3813fcc9",
   "metadata": {},
   "outputs": [
    {
     "data": {
      "image/png": "[encoded data removed]",
      "text/plain": [
       "<Figure size 864x648 with 2 Axes>"
      ]
     },
     "metadata": {
      "needs_background": "light"
     },
     "output_type": "display_data"
    }
   ],
   "source": [
    "nominal_columns=['sex','cp','fbs','restecg','exng','slp','caa','thall']\n",
    "\n",
    "heatmap(data,nominal_columns,categorical=True)"
   ]
  },
  {
   "cell_type": "markdown",
   "id": "63aa791a",
   "metadata": {},
   "source": [
    "## feature transformation ##"
   ]
  },
  {
   "cell_type": "markdown",
   "id": "57ccec54",
   "metadata": {},
   "source": [
    "**encoding the categorical features into one hot vectors**"
   ]
  },
  {
   "cell_type": "code",
   "execution_count": 10,
   "id": "29d9a80c",
   "metadata": {},
   "outputs": [],
   "source": [
    "categorical_columns=['age','sex','cp','fbs','restecg','exng','slp','caa','thall']\n",
    "data=encode_categorical_features(data,categorical_columns)"
   ]
  },
  {
   "cell_type": "markdown",
   "id": "d6b10042",
   "metadata": {},
   "source": [
    "**standardize the numerical variables**"
   ]
  },
  {
   "cell_type": "code",
   "execution_count": 11,
   "id": "eda34d81",
   "metadata": {},
   "outputs": [],
   "source": [
    "numerical_columns=['trtbps','chol','thalachh','oldpeak']\n",
    "\n",
    "data=standardize(data,numerical_columns)"
   ]
  },
  {
   "cell_type": "markdown",
   "id": "14ab21e0",
   "metadata": {},
   "source": [
    "## separate features and labels into train and test set ##"
   ]
  },
  {
   "cell_type": "code",
   "execution_count": 12,
   "id": "498b1211",
   "metadata": {},
   "outputs": [],
   "source": [
    "data=data.sample(frac=1,random_state=42) #shuffling data"
   ]
  },
  {
   "cell_type": "code",
   "execution_count": 13,
   "id": "ad505f8e",
   "metadata": {},
   "outputs": [
    {
     "name": "stdout",
     "output_type": "stream",
     "text": [
      "shape of X (303, 70)\n",
      "shape of y (303,)\n"
     ]
    }
   ],
   "source": [
    "\n",
    "X=data.iloc[:,:-1]\n",
    "print('shape of X',X.shape)\n",
    "y=data.iloc[:,-1]\n",
    "print('shape of y',y.shape)\n",
    "\n",
    "X_train, X_test, y_train, y_test = train_test_split(X, y, test_size=0.2, random_state=42)\n"
   ]
  },
  {
   "cell_type": "code",
   "execution_count": 14,
   "id": "59179e81",
   "metadata": {},
   "outputs": [
    {
     "data": {
      "text/plain": [
       "(242, 70)"
      ]
     },
     "execution_count": 14,
     "metadata": {},
     "output_type": "execute_result"
    }
   ],
   "source": [
    "X_train.shape"
   ]
  },
  {
   "cell_type": "code",
   "execution_count": 15,
   "id": "f8be46dd",
   "metadata": {},
   "outputs": [
    {
     "data": {
      "text/plain": [
       "(61, 70)"
      ]
     },
     "execution_count": 15,
     "metadata": {},
     "output_type": "execute_result"
    }
   ],
   "source": [
    "X_test.shape"
   ]
  },
  {
   "cell_type": "markdown",
   "id": "9b271eaf",
   "metadata": {},
   "source": [
    "## binary classification using pca and logistic regression ##"
   ]
  },
  {
   "cell_type": "code",
   "execution_count": 16,
   "id": "e9a84e9a",
   "metadata": {},
   "outputs": [],
   "source": [
    "pipe=Pipeline(steps=[('reduction',PCA()),('clf',LogisticRegression())])"
   ]
  },
  {
   "cell_type": "markdown",
   "id": "474897d9",
   "metadata": {},
   "source": [
    "**grid search**"
   ]
  },
  {
   "cell_type": "code",
   "execution_count": 17,
   "id": "fa3ece67",
   "metadata": {},
   "outputs": [
    {
     "name": "stdout",
     "output_type": "stream",
     "text": [
      "Fitting 5 folds for each of 16 candidates, totalling 80 fits\n",
      "[CV] END ................clf__C=1, reduction__n_components=5; total time=   0.0s\n",
      "[CV] END ................clf__C=1, reduction__n_components=5; total time=   0.0s\n",
      "[CV] END ................clf__C=1, reduction__n_components=5; total time=   0.0s\n",
      "[CV] END ................clf__C=1, reduction__n_components=5; total time=   0.0s\n",
      "[CV] END ................clf__C=1, reduction__n_components=5; total time=   0.0s\n",
      "[CV] END ...............clf__C=1, reduction__n_components=10; total time=   0.0s\n",
      "[CV] END ...............clf__C=1, reduction__n_components=10; total time=   0.0s\n",
      "[CV] END ...............clf__C=1, reduction__n_components=10; total time=   0.0s\n",
      "[CV] END ...............clf__C=1, reduction__n_components=10; total time=   0.0s\n",
      "[CV] END ...............clf__C=1, reduction__n_components=10; total time=   0.0s\n",
      "[CV] END ...............clf__C=1, reduction__n_components=20; total time=   0.0s\n",
      "[CV] END ...............clf__C=1, reduction__n_components=20; total time=   0.0s\n",
      "[CV] END ...............clf__C=1, reduction__n_components=20; total time=   0.0s\n",
      "[CV] END ...............clf__C=1, reduction__n_components=20; total time=   0.0s\n",
      "[CV] END ...............clf__C=1, reduction__n_components=20; total time=   0.0s\n",
      "[CV] END ...............clf__C=1, reduction__n_components=30; total time=   0.0s\n",
      "[CV] END ...............clf__C=1, reduction__n_components=30; total time=   0.0s\n",
      "[CV] END ...............clf__C=1, reduction__n_components=30; total time=   0.0s\n",
      "[CV] END ...............clf__C=1, reduction__n_components=30; total time=   0.0s\n",
      "[CV] END ...............clf__C=1, reduction__n_components=30; total time=   0.0s\n",
      "[CV] END ................clf__C=5, reduction__n_components=5; total time=   0.0s\n",
      "[CV] END ................clf__C=5, reduction__n_components=5; total time=   0.0s\n",
      "[CV] END ................clf__C=5, reduction__n_components=5; total time=   0.0s\n",
      "[CV] END ................clf__C=5, reduction__n_components=5; total time=   0.0s\n",
      "[CV] END ................clf__C=5, reduction__n_components=5; total time=   0.0s\n",
      "[CV] END ...............clf__C=5, reduction__n_components=10; total time=   0.0s\n",
      "[CV] END ...............clf__C=5, reduction__n_components=10; total time=   0.0s\n",
      "[CV] END ...............clf__C=5, reduction__n_components=10; total time=   0.0s\n",
      "[CV] END ...............clf__C=5, reduction__n_components=10; total time=   0.0s\n",
      "[CV] END ...............clf__C=5, reduction__n_components=10; total time=   0.0s\n",
      "[CV] END ...............clf__C=5, reduction__n_components=20; total time=   0.0s\n",
      "[CV] END ...............clf__C=5, reduction__n_components=20; total time=   0.0s\n",
      "[CV] END ...............clf__C=5, reduction__n_components=20; total time=   0.0s\n",
      "[CV] END ...............clf__C=5, reduction__n_components=20; total time=   0.0s\n",
      "[CV] END ...............clf__C=5, reduction__n_components=20; total time=   0.0s\n",
      "[CV] END ...............clf__C=5, reduction__n_components=30; total time=   0.0s\n",
      "[CV] END ...............clf__C=5, reduction__n_components=30; total time=   0.0s\n",
      "[CV] END ...............clf__C=5, reduction__n_components=30; total time=   0.0s\n",
      "[CV] END ...............clf__C=5, reduction__n_components=30; total time=   0.0s\n",
      "[CV] END ...............clf__C=5, reduction__n_components=30; total time=   0.0s\n",
      "[CV] END ...............clf__C=10, reduction__n_components=5; total time=   0.0s\n",
      "[CV] END ...............clf__C=10, reduction__n_components=5; total time=   0.0s\n",
      "[CV] END ...............clf__C=10, reduction__n_components=5; total time=   0.0s\n",
      "[CV] END ...............clf__C=10, reduction__n_components=5; total time=   0.0s\n",
      "[CV] END ...............clf__C=10, reduction__n_components=5; total time=   0.0s\n",
      "[CV] END ..............clf__C=10, reduction__n_components=10; total time=   0.0s\n",
      "[CV] END ..............clf__C=10, reduction__n_components=10; total time=   0.0s\n",
      "[CV] END ..............clf__C=10, reduction__n_components=10; total time=   0.0s\n",
      "[CV] END ..............clf__C=10, reduction__n_components=10; total time=   0.0s\n",
      "[CV] END ..............clf__C=10, reduction__n_components=10; total time=   0.0s\n",
      "[CV] END ..............clf__C=10, reduction__n_components=20; total time=   0.0s\n",
      "[CV] END ..............clf__C=10, reduction__n_components=20; total time=   0.0s\n",
      "[CV] END ..............clf__C=10, reduction__n_components=20; total time=   0.0s\n",
      "[CV] END ..............clf__C=10, reduction__n_components=20; total time=   0.0s\n",
      "[CV] END ..............clf__C=10, reduction__n_components=20; total time=   0.0s\n",
      "[CV] END ..............clf__C=10, reduction__n_components=30; total time=   0.0s\n",
      "[CV] END ..............clf__C=10, reduction__n_components=30; total time=   0.0s\n",
      "[CV] END ..............clf__C=10, reduction__n_components=30; total time=   0.0s\n",
      "[CV] END ..............clf__C=10, reduction__n_components=30; total time=   0.0s\n",
      "[CV] END ..............clf__C=10, reduction__n_components=30; total time=   0.0s\n",
      "[CV] END ...............clf__C=20, reduction__n_components=5; total time=   0.0s\n",
      "[CV] END ...............clf__C=20, reduction__n_components=5; total time=   0.0s\n",
      "[CV] END ...............clf__C=20, reduction__n_components=5; total time=   0.0s\n",
      "[CV] END ...............clf__C=20, reduction__n_components=5; total time=   0.0s\n",
      "[CV] END ...............clf__C=20, reduction__n_components=5; total time=   0.0s\n",
      "[CV] END ..............clf__C=20, reduction__n_components=10; total time=   0.0s\n",
      "[CV] END ..............clf__C=20, reduction__n_components=10; total time=   0.0s\n",
      "[CV] END ..............clf__C=20, reduction__n_components=10; total time=   0.0s\n",
      "[CV] END ..............clf__C=20, reduction__n_components=10; total time=   0.0s\n",
      "[CV] END ..............clf__C=20, reduction__n_components=10; total time=   0.0s\n",
      "[CV] END ..............clf__C=20, reduction__n_components=20; total time=   0.0s\n",
      "[CV] END ..............clf__C=20, reduction__n_components=20; total time=   0.0s\n",
      "[CV] END ..............clf__C=20, reduction__n_components=20; total time=   0.0s\n",
      "[CV] END ..............clf__C=20, reduction__n_components=20; total time=   0.0s\n",
      "[CV] END ..............clf__C=20, reduction__n_components=20; total time=   0.0s\n",
      "[CV] END ..............clf__C=20, reduction__n_components=30; total time=   0.0s\n",
      "[CV] END ..............clf__C=20, reduction__n_components=30; total time=   0.0s\n",
      "[CV] END ..............clf__C=20, reduction__n_components=30; total time=   0.0s\n",
      "[CV] END ..............clf__C=20, reduction__n_components=30; total time=   0.0s\n",
      "[CV] END ..............clf__C=20, reduction__n_components=30; total time=   0.0s\n"
     ]
    },
    {
     "data": {
      "text/plain": [
       "GridSearchCV(estimator=Pipeline(steps=[('reduction', PCA()),\n",
       "                                       ('clf', LogisticRegression())]),\n",
       "             param_grid={'clf__C': [1, 5, 10, 20],\n",
       "                         'reduction__n_components': [5, 10, 20, 30]},\n",
       "             scoring='accuracy', verbose=2)"
      ]
     },
     "execution_count": 17,
     "metadata": {},
     "output_type": "execute_result"
    }
   ],
   "source": [
    "param_dict={'reduction__n_components':[5,10,20,30],'clf__C':[1,5,10,20]}\n",
    "\n",
    "grid=GridSearchCV(estimator=pipe,param_grid=param_dict,scoring='accuracy',verbose=2)\n",
    "\n",
    "grid.fit(X_train,y_train)"
   ]
  },
  {
   "cell_type": "code",
   "execution_count": 18,
   "id": "0acc1dfc",
   "metadata": {},
   "outputs": [
    {
     "name": "stdout",
     "output_type": "stream",
     "text": [
      "the best accuracy score is: 0.9958333333333332\n",
      "the best parameters are: {'clf__C': 20, 'reduction__n_components': 30}\n"
     ]
    }
   ],
   "source": [
    "print('the best accuracy score is:',grid.best_score_)\n",
    "\n",
    "print('the best parameters are:',grid.best_params_)"
   ]
  },
  {
   "cell_type": "markdown",
   "id": "ad2583bb",
   "metadata": {},
   "source": [
    "**use the best parameters found in the grid search**"
   ]
  },
  {
   "cell_type": "code",
   "execution_count": 19,
   "id": "fac74291",
   "metadata": {},
   "outputs": [
    {
     "name": "stdout",
     "output_type": "stream",
     "text": [
      "accuracy score for the test set is: 0.9672131147540983\n"
     ]
    }
   ],
   "source": [
    "pipe.set_params(reduction__n_components=30,clf__C=20)\n",
    "\n",
    "pipe.fit(X_train,y_train)\n",
    "\n",
    "preds=pipe.predict(X_test)\n",
    "\n",
    "accuracy=accuracy_score(y_test,preds)\n",
    "\n",
    "print(f'accuracy score for the test set is: {accuracy}')"
   ]
  },
  {
   "cell_type": "markdown",
   "id": "bd3c01d0",
   "metadata": {},
   "source": [
    "**visualize the contribution of the features into the logistic model**"
   ]
  },
  {
   "cell_type": "code",
   "execution_count": 20,
   "id": "be49bd2a",
   "metadata": {},
   "outputs": [
    {
     "data": {
      "image/png": "[encoded data removed]",
      "text/plain": [
       "<Figure size 1152x648 with 1 Axes>"
      ]
     },
     "metadata": {},
     "output_type": "display_data"
    }
   ],
   "source": [
    "coefficients=feature_importance_hist(pipe)"
   ]
  },
  {
   "cell_type": "code",
   "execution_count": 21,
   "id": "39d84c0d",
   "metadata": {},
   "outputs": [
    {
     "name": "stdout",
     "output_type": "stream",
     "text": [
      "[-5.03410094 -5.0339039  -4.55138917 -4.41493223 -4.39471618 -3.2836543\n",
      " -2.99967919 -2.83386686 -2.65304195 -2.44759527 -1.71048117 -1.13244138\n",
      " -0.91947074 -0.78138541 -0.71055595 -0.39970553 -0.37273257 -0.36917121\n",
      " -0.33223613  0.03940196  0.06796338  0.21763976  0.2243116   0.35609506\n",
      "  0.55354963  0.59567777  0.90197693  1.06542152  1.29945072  1.80328341]\n"
     ]
    }
   ],
   "source": [
    "print(np.sort(coefficients)) #weights in ascending order"
   ]
  }
 ],
 "metadata": {
  "kernelspec": {
   "display_name": "Python 3 (ipykernel)",
   "language": "python",
   "name": "python3"
  },
  "language_info": {
   "codemirror_mode": {
    "name": "ipython",
    "version": 3
   },
   "file_extension": ".py",
   "mimetype": "text/x-python",
   "name": "python",
   "nbconvert_exporter": "python",
   "pygments_lexer": "ipython3",
   "version": "3.9.12"
  }
 },
 "nbformat": 4,
 "nbformat_minor": 5
}
